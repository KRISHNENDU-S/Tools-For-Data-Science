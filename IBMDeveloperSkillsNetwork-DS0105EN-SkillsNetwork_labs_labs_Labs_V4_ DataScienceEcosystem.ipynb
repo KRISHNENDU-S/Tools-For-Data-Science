{
  "metadata": {
    "language_info": {
      "codemirror_mode": {
        "name": "python",
        "version": 3
      },
      "file_extension": ".py",
      "mimetype": "text/x-python",
      "name": "python",
      "nbconvert_exporter": "python",
      "pygments_lexer": "ipython3",
      "version": "3.8"
    },
    "kernelspec": {
      "name": "python",
      "display_name": "Pyolite",
      "language": "python"
    }
  },
  "nbformat_minor": 4,
  "nbformat": 4,
  "cells": [
    {
      "cell_type": "markdown",
      "source": "<h1>Data Science Tools and Ecosystem<h1>",
      "metadata": {}
    },
    {
      "cell_type": "markdown",
      "source": "<i>In this notebook, Data Science Tools and Ecosystem are summarized.<i>",
      "metadata": {}
    },
    {
      "cell_type": "markdown",
      "source": "<p>Some of the popular languages that Data Scientists use are:<p>\n1. Python <BR>\n2. R <BR>\n3. SQL <BR>\n4. Scala",
      "metadata": {}
    },
    {
      "cell_type": "markdown",
      "source": "<p>Some of the commonly used libraries used by Data Scientists include:<p>\n1. Scikit-learn <BR>\n2. TensorFlow <BR>\n3. Keras <BR>\n4. Pandas",
      "metadata": {}
    },
    {
      "cell_type": "markdown",
      "source": "| Data Science Tools |\n| -------------|\n| NoSQL  |\n| Apache Airflow |\n| Git  |",
      "metadata": {}
    },
    {
      "cell_type": "markdown",
      "source": "<h3>Below are a few examples of evaluating arithmetic expressions in Python<h3>",
      "metadata": {}
    },
    {
      "cell_type": "code",
      "source": "#This a simple arithmetic expression to mutiply then add integers\n(3*4)+5",
      "metadata": {
        "trusted": true
      },
      "execution_count": 19,
      "outputs": [
        {
          "execution_count": 19,
          "output_type": "execute_result",
          "data": {
            "text/plain": "17"
          },
          "metadata": {}
        }
      ]
    },
    {
      "cell_type": "code",
      "source": "#This will convert 200 minutes to hours by diving by 60\n200/60",
      "metadata": {
        "trusted": true
      },
      "execution_count": 20,
      "outputs": [
        {
          "execution_count": 20,
          "output_type": "execute_result",
          "data": {
            "text/plain": "3.3333333333333335"
          },
          "metadata": {}
        }
      ]
    },
    {
      "cell_type": "markdown",
      "source": "<B>Objectives:<B>\n    \n-List popular languages for Data Science<br>\n-List popular libraries for Data Science<br>\n-Print table in a markdown cell\n",
      "metadata": {}
    },
    {
      "cell_type": "markdown",
      "source": "## Author\nKrishnendu S",
      "metadata": {}
    },
    {
      "cell_type": "code",
      "source": "",
      "metadata": {},
      "execution_count": null,
      "outputs": []
    }
  ]
}